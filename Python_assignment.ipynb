{
 "cells": [
  {
   "cell_type": "markdown",
   "id": "f40c8672-81cd-4373-9294-1c988dc82309",
   "metadata": {},
   "source": [
    "1) Python data type and typecasting questions for practice:"
   ]
  },
  {
   "cell_type": "code",
   "execution_count": 1,
   "id": "738215ff-5256-4f83-a401-a70d9aaa72b0",
   "metadata": {},
   "outputs": [
    {
     "data": {
      "text/plain": [
       "int"
      ]
     },
     "execution_count": 1,
     "metadata": {},
     "output_type": "execute_result"
    }
   ],
   "source": [
    "# What is the data type of the variable x if x = 5 ?\n",
    "int"
   ]
  },
  {
   "cell_type": "code",
   "execution_count": 2,
   "id": "22627017-4fd2-4fe7-981c-47f9eb2503b0",
   "metadata": {},
   "outputs": [
    {
     "data": {
      "text/plain": [
       "str"
      ]
     },
     "execution_count": 2,
     "metadata": {},
     "output_type": "execute_result"
    }
   ],
   "source": [
    "# Which data type is used to represent a sequence of characters in Python?\n",
    "str"
   ]
  },
  {
   "cell_type": "code",
   "execution_count": 4,
   "id": "9157c18c-616e-4454-ac75-e01e5a9e3bb6",
   "metadata": {},
   "outputs": [
    {
     "data": {
      "text/plain": [
       "True"
      ]
     },
     "execution_count": 4,
     "metadata": {},
     "output_type": "execute_result"
    }
   ],
   "source": [
    " # True or False: Python has a built-in data type for representing complex numbers.\n",
    "True"
   ]
  },
  {
   "cell_type": "code",
   "execution_count": 5,
   "id": "a48d518d-8c2a-48f7-94c8-386d09cc3b9d",
   "metadata": {},
   "outputs": [
    {
     "data": {
      "text/plain": [
       "list"
      ]
     },
     "execution_count": 5,
     "metadata": {},
     "output_type": "execute_result"
    }
   ],
   "source": [
    "# What is the data type of the variable my_list if my_list = [1, 2, 3]?\n",
    "list"
   ]
  },
  {
   "cell_type": "code",
   "execution_count": 6,
   "id": "3a743ff6-7477-416e-9fb3-848774b32f06",
   "metadata": {},
   "outputs": [],
   "source": [
    "# Which data type is used to represent a collection of key-value pairs in Python?\n",
    "dictionary = {'name': 'John', 'age': 25, 'city': 'New York'}"
   ]
  },
  {
   "cell_type": "code",
   "execution_count": 7,
   "id": "2d550cee-771b-47fc-b281-e94468cb89b7",
   "metadata": {},
   "outputs": [
    {
     "name": "stdout",
     "output_type": "stream",
     "text": [
      "5\n"
     ]
    }
   ],
   "source": [
    "# Convert the variable x of type float to an integer.\n",
    "x = 5.1\n",
    "x_int = int(x)\n",
    "print(x_int)"
   ]
  },
  {
   "cell_type": "code",
   "execution_count": 8,
   "id": "bede57e2-8463-441d-906a-5d965bf50406",
   "metadata": {},
   "outputs": [
    {
     "name": "stdout",
     "output_type": "stream",
     "text": [
      "12345 <class 'str'>\n"
     ]
    }
   ],
   "source": [
    "# Convert the variable x of type int to a string.\n",
    "x = 12345\n",
    "x_str = str(x)\n",
    "print(x_str,type(x_str))"
   ]
  },
  {
   "cell_type": "code",
   "execution_count": 9,
   "id": "0efdfa84-7e2c-47ee-87bc-1ad1dc32a35f",
   "metadata": {},
   "outputs": [
    {
     "name": "stdout",
     "output_type": "stream",
     "text": [
      "12345.0 <class 'float'>\n"
     ]
    }
   ],
   "source": [
    "# Convert the variable x of type str to a float.\n",
    "x_float = float(x_str)\n",
    "print(x_float,type(x_float))"
   ]
  },
  {
   "cell_type": "code",
   "execution_count": 10,
   "id": "6868929b-3722-497c-8aa5-dce94edd1175",
   "metadata": {},
   "outputs": [
    {
     "name": "stdout",
     "output_type": "stream",
     "text": [
      "[1, 2, 3, 'apple', 'banana'] <class 'list'>\n"
     ]
    }
   ],
   "source": [
    "# Convert the variable my_tuple of type tuple to a list\n",
    "my_tuple = (1, 2, 3, 'apple', 'banana')\n",
    "my_list = list(my_tuple)\n",
    "print(my_list,type(my_list))"
   ]
  },
  {
   "cell_type": "code",
   "execution_count": 11,
   "id": "fbadff5d-5d7b-47a6-b6cd-c099caa84f26",
   "metadata": {},
   "outputs": [
    {
     "data": {
      "text/plain": [
       "{'name': 'John', 'age': 25, 'city': 'New York'}"
      ]
     },
     "execution_count": 11,
     "metadata": {},
     "output_type": "execute_result"
    }
   ],
   "source": [
    "# . Convert the variable my_dict of type dict to a string.\n",
    "dictionary"
   ]
  },
  {
   "cell_type": "code",
   "execution_count": 12,
   "id": "e4d986d0-eb11-4a8d-b785-8184ad351312",
   "metadata": {},
   "outputs": [
    {
     "name": "stdout",
     "output_type": "stream",
     "text": [
      "{'name': 'John', 'age': 25, 'city': 'New York'} <class 'str'>\n"
     ]
    }
   ],
   "source": [
    "my_str = str(dictionary)\n",
    "print(my_str,type(my_str))"
   ]
  },
  {
   "cell_type": "code",
   "execution_count": 13,
   "id": "f9ce4ffb-cfb0-4fca-90eb-50dfa2f3a09d",
   "metadata": {},
   "outputs": [
    {
     "data": {
      "text/plain": [
       "True"
      ]
     },
     "execution_count": 13,
     "metadata": {},
     "output_type": "execute_result"
    }
   ],
   "source": [
    " # True or False: Python has a built-in data type for representing dates and times.\n",
    "True\n",
    "#Python has a built-in module called datetime"
   ]
  },
  {
   "cell_type": "code",
   "execution_count": 14,
   "id": "ea34bb2c-8960-4e97-be1b-1d52152b07f1",
   "metadata": {},
   "outputs": [
    {
     "data": {
      "text/plain": [
       "tuple"
      ]
     },
     "execution_count": 14,
     "metadata": {},
     "output_type": "execute_result"
    }
   ],
   "source": [
    " # What is the data type of the variable x if x = (1, 2, 3)?\n",
    "x = (1,2,3)\n",
    "type(x)"
   ]
  },
  {
   "cell_type": "code",
   "execution_count": 15,
   "id": "e8594a3c-fad1-496f-b37b-5f5db965382f",
   "metadata": {},
   "outputs": [
    {
     "data": {
      "text/plain": [
       "tuple"
      ]
     },
     "execution_count": 15,
     "metadata": {},
     "output_type": "execute_result"
    }
   ],
   "source": [
    " # Which data type is used to represent a sequence of immutable elements in Python?\n",
    "tuple"
   ]
  },
  {
   "cell_type": "code",
   "execution_count": 16,
   "id": "b763f71b-b4d9-4d67-ab11-60f375dcb9d7",
   "metadata": {},
   "outputs": [
    {
     "data": {
      "text/plain": [
       "True"
      ]
     },
     "execution_count": 16,
     "metadata": {},
     "output_type": "execute_result"
    }
   ],
   "source": [
    " # True or False: Python has a built-in data type for representing boolean values\n",
    "True\n",
    "# Python has a built-in data type for representing boolean values, and it is named bool"
   ]
  },
  {
   "cell_type": "code",
   "execution_count": 17,
   "id": "ec5c5732-575a-43d5-95ef-b8126d8e6817",
   "metadata": {},
   "outputs": [
    {
     "data": {
      "text/plain": [
       "set"
      ]
     },
     "execution_count": 17,
     "metadata": {},
     "output_type": "execute_result"
    }
   ],
   "source": [
    "# What is the data type of the variable my_set if my_set = {1, 2, 3}?\n",
    "my_set = {1, 2, 3}\n",
    "type(my_set)"
   ]
  },
  {
   "cell_type": "code",
   "execution_count": 18,
   "id": "ab3b1fe5-0b74-4b02-9cb9-b77ae1c67482",
   "metadata": {},
   "outputs": [
    {
     "name": "stdout",
     "output_type": "stream",
     "text": [
      "True <class 'bool'>\n"
     ]
    }
   ],
   "source": [
    " # Convert the variable x of type int to a boolean.\n",
    "x = 234284\n",
    "x_bool = bool(x)\n",
    "print(x_bool,type(x_bool))"
   ]
  },
  {
   "cell_type": "code",
   "execution_count": 19,
   "id": "b2a5135c-f6ba-47d2-a119-c31d47315710",
   "metadata": {},
   "outputs": [
    {
     "data": {
      "text/plain": [
       "12345.0"
      ]
     },
     "execution_count": 19,
     "metadata": {},
     "output_type": "execute_result"
    }
   ],
   "source": [
    "# Convert the variable x of type float to a string\n",
    "x_float"
   ]
  },
  {
   "cell_type": "code",
   "execution_count": 20,
   "id": "83cd28e0-da7b-4de1-89e9-1c77e33f9126",
   "metadata": {},
   "outputs": [
    {
     "name": "stdout",
     "output_type": "stream",
     "text": [
      "12345.0 <class 'str'>\n"
     ]
    }
   ],
   "source": [
    "type_str = str(x_float)\n",
    "print(x_float,type(type_str))"
   ]
  },
  {
   "cell_type": "code",
   "execution_count": null,
   "id": "e4dd13b1-c818-4833-aa72-6dc4823314b1",
   "metadata": {},
   "outputs": [],
   "source": []
  },
  {
   "cell_type": "markdown",
   "id": "10bcda83-ac7b-4eda-ba93-4da09f6fb5a4",
   "metadata": {},
   "source": [
    "2) Python indexing questions for practice"
   ]
  },
  {
   "cell_type": "code",
   "execution_count": 21,
   "id": "10fdacd6-0da5-4cdf-93d2-6f23a8ba8980",
   "metadata": {},
   "outputs": [
    {
     "name": "stdout",
     "output_type": "stream",
     "text": [
      "9\n"
     ]
    }
   ],
   "source": [
    "# Given a list my_list = [3, 6, 9, 12, 15], print the third item using indexing\n",
    "my_list = [3, 6, 9, 12, 15]\n",
    "third_item = my_list[2]\n",
    "print(third_item)"
   ]
  },
  {
   "cell_type": "code",
   "execution_count": 24,
   "id": "b9ac5275-1861-45f7-a5d4-92d13e72b26d",
   "metadata": {},
   "outputs": [
    {
     "name": "stdout",
     "output_type": "stream",
     "text": [
      "d\n"
     ]
    }
   ],
   "source": [
    "# Given a string my_string = \"hello world\", print the last character using negative indexing.\n",
    "my_string = \"hello world\"\n",
    "last_item = my_string[-1]\n",
    "print(last_item)"
   ]
  },
  {
   "cell_type": "code",
   "execution_count": 35,
   "id": "ed800e3b-429f-42bf-bbb0-912e341b3ba6",
   "metadata": {},
   "outputs": [
    {
     "name": "stdout",
     "output_type": "stream",
     "text": [
      "[4, 6, 8]\n"
     ]
    }
   ],
   "source": [
    "#  Given a list my_list = [2, 4, 6, 8, 10], print the second to fourth items using slicing.\n",
    "my_list = [2, 4, 6, 8, 10]\n",
    "print(my_list[1:4])"
   ]
  },
  {
   "cell_type": "code",
   "execution_count": 36,
   "id": "35984dab-9609-4050-a61f-d24dc71550e4",
   "metadata": {},
   "outputs": [
    {
     "name": "stdout",
     "output_type": "stream",
     "text": [
      "Pytho\n"
     ]
    }
   ],
   "source": [
    "#Given a string my_string = \"Python is fun!\", print the first five characters using slicing.\n",
    "my_string = \"Python is fun!\"\n",
    "print(my_string[:5])"
   ]
  },
  {
   "cell_type": "code",
   "execution_count": 38,
   "id": "f1799873-b8bc-4e51-acbc-588804336bf2",
   "metadata": {},
   "outputs": [
    {
     "name": "stdout",
     "output_type": "stream",
     "text": [
      "elderberry\n"
     ]
    }
   ],
   "source": [
    "#Given a list my_list = [\"apple\", \"banana\", \"cherry\", \"date\", \"elderberry\"], print the last item using negative indexing.\n",
    "my_list = [\"apple\", \"banana\", \"cherry\", \"date\", \"elderberry\"]\n",
    "print(my_list[-1])\n"
   ]
  },
  {
   "cell_type": "code",
   "execution_count": 40,
   "id": "1e8b595c-494f-4952-92ca-7654a0499ad6",
   "metadata": {},
   "outputs": [
    {
     "name": "stdout",
     "output_type": "stream",
     "text": [
      "4\n"
     ]
    }
   ],
   "source": [
    "# Given a string my_string = \"Hello, how are you?\", print the first occurrence of the letter \"o\" using indexing.\n",
    "my_string = \"Hello, how are you?\"\n",
    "first_o = my_string.index(\"o\")\n",
    "print(first_o)\n"
   ]
  },
  {
   "cell_type": "code",
   "execution_count": 41,
   "id": "c5ca8ed9-5f9e-4fcd-b7a5-1a95155e75f8",
   "metadata": {},
   "outputs": [
    {
     "name": "stdout",
     "output_type": "stream",
     "text": [
      "[1, 3, 5, 7, 9]\n"
     ]
    }
   ],
   "source": [
    "# Given a list my_list = [1, 2, 3, 4, 5, 6, 7, 8, 9], print every other item using slicing.\n",
    "my_list = [1, 2, 3, 4, 5, 6, 7, 8, 9]\n",
    "print(my_list[::2])\n"
   ]
  },
  {
   "cell_type": "code",
   "execution_count": 51,
   "id": "5fd45c39-d7e1-432c-a480-e9262816bc5d",
   "metadata": {},
   "outputs": [
    {
     "name": "stdout",
     "output_type": "stream",
     "text": [
      "earn.\n"
     ]
    }
   ],
   "source": [
    "# Given a string my_string = \"Python is easy to learn.\", print the last five characters using slicing.\n",
    "my_string = \"Python is easy to learn.\"\n",
    "print(my_string[-5:])"
   ]
  },
  {
   "cell_type": "code",
   "execution_count": 54,
   "id": "094cc556-8911-4ffe-8661-5f260c32e663",
   "metadata": {},
   "outputs": [
    {
     "name": "stdout",
     "output_type": "stream",
     "text": [
      "[44, 55, 66, 77, 88]\n"
     ]
    }
   ],
   "source": [
    "# Given a list my_list = [11, 22, 33, 44, 55, 66, 77, 88, 99], print the items from the fourth to the second last using slicing.\n",
    "my_list = [11, 22, 33, 44, 55, 66, 77, 88, 99]\n",
    "print(my_list[3:8])"
   ]
  },
  {
   "cell_type": "code",
   "execution_count": 57,
   "id": "e0f9f4b9-343e-4580-b14e-8b9db75bd5fd",
   "metadata": {},
   "outputs": [
    {
     "name": "stdout",
     "output_type": "stream",
     "text": [
      "Tss nsi.\n"
     ]
    }
   ],
   "source": [
    "# Given a string my_string = \"This is a long string.\", print every third character using slicing.\n",
    "my_string = \"This is a long string.\"\n",
    "print(my_string[::3])"
   ]
  },
  {
   "cell_type": "code",
   "execution_count": null,
   "id": "809cc318-1f8a-46d0-a7d3-475e17562e57",
   "metadata": {},
   "outputs": [],
   "source": []
  },
  {
   "cell_type": "markdown",
   "id": "ee37791f-fa1b-4cc7-a791-ea4e69c6044b",
   "metadata": {},
   "source": [
    "3) Python list operations or methods questions for practice:"
   ]
  },
  {
   "cell_type": "code",
   "execution_count": 63,
   "id": "381e927f-82ba-4e04-9bf4-5dfe0c9b8c5b",
   "metadata": {},
   "outputs": [
    {
     "name": "stdout",
     "output_type": "stream",
     "text": [
      "[1, 2, 3, 4, 5, 6]\n"
     ]
    }
   ],
   "source": [
    "# Create a list my_list with the values [1, 2, 3, 4, 5]. Append the value 6 to the end of the list.\n",
    "my_list = [1, 2, 3, 4, 5]\n",
    "my_list.append(6)\n",
    "print(my_list)"
   ]
  },
  {
   "cell_type": "code",
   "execution_count": 68,
   "id": "3498cfe1-13e0-4d74-a550-91aff8d3a431",
   "metadata": {},
   "outputs": [
    {
     "name": "stdout",
     "output_type": "stream",
     "text": [
      "['apple', 'orange', 'banana', 'cherry']\n"
     ]
    }
   ],
   "source": [
    "# Given a list my_list = [\"apple\", \"banana\", \"cherry\"], insert the value \"orange\" at index 1\n",
    "my_list = [\"apple\", \"banana\", \"cherry\"]\n",
    "my_list.insert(1,\"orange\")\n",
    "print(my_list)"
   ]
  },
  {
   "cell_type": "code",
   "execution_count": 72,
   "id": "25fe809c-e089-41aa-8590-1202e519789b",
   "metadata": {},
   "outputs": [
    {
     "name": "stdout",
     "output_type": "stream",
     "text": [
      "[10, 20, 40, 50]\n"
     ]
    }
   ],
   "source": [
    " # Given a list my_list = [10, 20, 30, 40, 50], remove the value 30 from the list\n",
    "my_list = [10, 20, 30, 40, 50]\n",
    "my_list.remove(30)\n",
    "print(my_list)"
   ]
  },
  {
   "cell_type": "code",
   "execution_count": 77,
   "id": "13c31e2e-a2a2-47fd-98c0-56d41f6a6ea9",
   "metadata": {},
   "outputs": [
    {
     "name": "stdout",
     "output_type": "stream",
     "text": [
      "['apple', 'banana', 'cherry']\n"
     ]
    }
   ],
   "source": [
    "#Given a list my_list = [\"apple\", \"banana\", \"cherry\", \"orange\"], remove the last item from the list.\n",
    "my_list = [\"apple\", \"banana\", \"cherry\", \"orange\"]\n",
    "my_list.pop()\n",
    "print(my_list)"
   ]
  },
  {
   "cell_type": "code",
   "execution_count": 155,
   "id": "b54eb1d7-8051-4a5c-814e-7289c2ba466e",
   "metadata": {},
   "outputs": [
    {
     "name": "stdout",
     "output_type": "stream",
     "text": [
      "[5, 4, 3, 2, 1]\n"
     ]
    }
   ],
   "source": [
    "# Create a list my_list with the values [1, 2, 3, 4, 5]. Use a method to reverse the order of the items in the list.\n",
    "my_list = [1, 2, 3, 4, 5]\n",
    "my_list.sort(reverse=True)\n",
    "print(my_list)"
   ]
  },
  {
   "cell_type": "code",
   "execution_count": 153,
   "id": "98117290-8cae-40e7-a795-c69b0e2fdcc1",
   "metadata": {},
   "outputs": [
    {
     "name": "stdout",
     "output_type": "stream",
     "text": [
      "[1, 2, 3, 4, 5, 6]\n"
     ]
    }
   ],
   "source": [
    " # Given two lists list1 = [1, 2, 3] and list2 = [4, 5, 6], use a method to concatenate them into a single list.\n",
    "list1 = [1, 2, 3] \n",
    "list2 = [4, 5, 6]\n",
    "\n",
    "new_list = list1 + list2\n",
    "print(new_list)"
   ]
  },
  {
   "cell_type": "code",
   "execution_count": 145,
   "id": "1b3fb373-b1ef-4b3b-af65-d4c8bd045abb",
   "metadata": {},
   "outputs": [
    {
     "name": "stdout",
     "output_type": "stream",
     "text": [
      "['apple', 'banana', 'cherry', 'orange']\n"
     ]
    }
   ],
   "source": [
    " # Given a list my_list = [\"apple\", \"banana\", \"cherry\", \"orange\"], use a method to sort the items in alphabetical order.\n",
    "my_list = [\"apple\", \"banana\", \"cherry\", \"orange\"]\n",
    "my_list.sort()\n",
    "print(my_list)"
   ]
  },
  {
   "cell_type": "code",
   "execution_count": 142,
   "id": "5cb88b48-d92b-4428-bf99-8ee636e18c36",
   "metadata": {},
   "outputs": [
    {
     "data": {
      "text/plain": [
       "3"
      ]
     },
     "execution_count": 142,
     "metadata": {},
     "output_type": "execute_result"
    }
   ],
   "source": [
    "# Given a list my_list = [10, 20, 30, 40, 50], use a method to find the index of the value 40.\n",
    "my_list = [10, 20, 30, 40, 50]\n",
    "my_list.index(40)"
   ]
  },
  {
   "cell_type": "code",
   "execution_count": 141,
   "id": "66cb2c6d-4f56-4511-bccf-77bf38f88c96",
   "metadata": {},
   "outputs": [
    {
     "name": "stdout",
     "output_type": "stream",
     "text": [
      "1\n"
     ]
    }
   ],
   "source": [
    "# Given a list my_list = [\"apple\", \"banana\", \"cherry\", \"orange\"], use a method to count the number of occurrences of the value \"banana\".\n",
    "my_list = [\"apple\", \"banana\", \"cherry\", \"orange\"]\n",
    "new_list = my_list.count(\"banana\")\n",
    "print(new_list)"
   ]
  },
  {
   "cell_type": "code",
   "execution_count": 136,
   "id": "876a5ef8-4898-4cd6-a0f2-a666cfadc38f",
   "metadata": {},
   "outputs": [
    {
     "name": "stdout",
     "output_type": "stream",
     "text": [
      "50\n"
     ]
    }
   ],
   "source": [
    "# Given a list my_list = [10, 20, 30, 40, 50], use a method to find the largest value in the list.\n",
    "my_list = [10, 20, 30, 40, 50]\n",
    "new_list = max(my_list)\n",
    "print(new_list)"
   ]
  },
  {
   "cell_type": "code",
   "execution_count": 133,
   "id": "0e4f9ab3-a68e-467d-978b-9e67265043c5",
   "metadata": {},
   "outputs": [
    {
     "name": "stdout",
     "output_type": "stream",
     "text": [
      "15\n"
     ]
    }
   ],
   "source": [
    "# Given a list my_list = [1, 2, 3, 4, 5], use a method to find the sum of all the values in the list.\n",
    "my_list = [1, 2, 3, 4, 5]\n",
    "\n",
    "list_sum = sum(my_list)\n",
    "print(list_sum)\n"
   ]
  },
  {
   "cell_type": "code",
   "execution_count": 127,
   "id": "d1c8a7a8-8a09-4083-99a4-329751d310a9",
   "metadata": {},
   "outputs": [
    {
     "name": "stdout",
     "output_type": "stream",
     "text": [
      "['APPLE', 'BANANA', 'CHERRY', 'ORANGE']\n"
     ]
    }
   ],
   "source": [
    "#Given a list my_list = [\"apple\", \"banana\", \"cherry\", \"orange\"], use a method to create a new list with all the items in uppercase.\n",
    "my_list = [\"apple\", \"banana\", \"cherry\", \"orange\"]\n",
    "\n",
    "new_list_uppercase = [item.upper() for item in my_list]\n",
    "print(new_list_uppercase)\n"
   ]
  },
  {
   "cell_type": "code",
   "execution_count": 129,
   "id": "3b80b854-0214-427e-900e-040de83204a3",
   "metadata": {},
   "outputs": [
    {
     "name": "stdout",
     "output_type": "stream",
     "text": [
      "['APPLE', 'BANANA', 'CHERRY', 'ORANGE']\n"
     ]
    }
   ],
   "source": [
    "#we can use this also \n",
    "list_uppercase = []\n",
    "for i in my_list:\n",
    "    list_uppercase.append(i.upper())\n",
    "\n",
    "print(list_uppercase)"
   ]
  },
  {
   "cell_type": "code",
   "execution_count": 121,
   "id": "41f23274-28e5-4367-bf81-ca7ae8bfff3b",
   "metadata": {},
   "outputs": [
    {
     "name": "stdout",
     "output_type": "stream",
     "text": [
      "[2, 4, 6, 8, 10]\n"
     ]
    }
   ],
   "source": [
    "#Given a list my_list = [1, 2, 3, 4, 5], use a method to create a new list with all the values doubled. \n",
    "my_list = [1, 2, 3, 4, 5]\n",
    "\n",
    "doubled_list = []\n",
    "for item in my_list:\n",
    "    doubled_list.append(item * 2)\n",
    "\n",
    "print(doubled_list)\n",
    "\n"
   ]
  },
  {
   "cell_type": "code",
   "execution_count": 123,
   "id": "81d9b219-f50b-497b-ad40-383ec5e31014",
   "metadata": {},
   "outputs": [
    {
     "name": "stdout",
     "output_type": "stream",
     "text": [
      "[2, 4, 6, 8, 10]\n"
     ]
    }
   ],
   "source": [
    "#we can use this also \n",
    "new_list_doubled = [item * 2 for item in my_list]\n",
    "print(new_list_doubled)\n"
   ]
  },
  {
   "cell_type": "code",
   "execution_count": 119,
   "id": "02cdbf61-a4d7-413a-a6b2-b84044b8ddab",
   "metadata": {},
   "outputs": [
    {
     "name": "stdout",
     "output_type": "stream",
     "text": [
      "['orange', 'cherry', 'banana', 'apple']\n"
     ]
    }
   ],
   "source": [
    "# Given a list my_list = [\"apple\", \"banana\", \"cherry\", \"orange\"], use a method to create a new list with the items in reverse order.\n",
    "my_list = [\"apple\", \"banana\", \"cherry\", \"orange\"]\n",
    "my_list.sort(reverse=True)\n",
    "print(my_list)"
   ]
  },
  {
   "cell_type": "code",
   "execution_count": 117,
   "id": "3005b3c6-f936-409e-af02-bf912f17c783",
   "metadata": {},
   "outputs": [
    {
     "name": "stdout",
     "output_type": "stream",
     "text": [
      "[]\n"
     ]
    }
   ],
   "source": [
    "#Given a list my_list = [1, 2, 3, 4, 5], use a method to remove all the values from the list.\n",
    "my_list = [1, 2, 3, 4, 5]\n",
    "my_list.clear()\n",
    "print(my_list)"
   ]
  },
  {
   "cell_type": "code",
   "execution_count": 113,
   "id": "1085c263-1226-4a15-8b36-cf5660ce49db",
   "metadata": {},
   "outputs": [
    {
     "name": "stdout",
     "output_type": "stream",
     "text": [
      "['apple', 'cherry', 'orange']\n"
     ]
    }
   ],
   "source": [
    "#Given a list my_list = [\"apple\", \"banana\", \"cherry\", \"orange\"], use a method to remove the item \"banana\" from the list.\n",
    "my_list = [\"apple\", \"banana\", \"cherry\", \"orange\"]\n",
    "my_list.remove(\"banana\")\n",
    "print(my_list)\n"
   ]
  },
  {
   "cell_type": "code",
   "execution_count": 109,
   "id": "155a1b1f-9d85-4a42-acbc-74576b0b767f",
   "metadata": {},
   "outputs": [
    {
     "name": "stdout",
     "output_type": "stream",
     "text": [
      "[2, 4]\n"
     ]
    }
   ],
   "source": [
    "# Given a list my_list = [1, 2, 3, 4, 5], use a method to create a new list with only the even values.\n",
    "my_list = [1, 2, 3, 4, 5]\n",
    "even_list = [item for item in my_list if item % 2 == 0]\n",
    "print(even_list)"
   ]
  },
  {
   "cell_type": "code",
   "execution_count": 108,
   "id": "06c2ddb8-9c9f-4840-a649-8efa2b3d8808",
   "metadata": {},
   "outputs": [
    {
     "name": "stdout",
     "output_type": "stream",
     "text": [
      "[2, 3]\n"
     ]
    }
   ],
   "source": [
    "#Given two lists list1 = [1, 2, 3] and list2 = [2, 3, 4], use a method to create a new list with only the values that appear in both lists.\n",
    "\n",
    "list_1 = [1, 2, 3]\n",
    "list_2 = [2, 3, 4]\n",
    "\n",
    "common_value = list(set(list_1).intersection(set(list_2)))\n",
    "print(common_value)"
   ]
  },
  {
   "cell_type": "code",
   "execution_count": 102,
   "id": "784a3c8e-5d3a-4490-9756-b48bbbb2ef36",
   "metadata": {},
   "outputs": [
    {
     "name": "stdout",
     "output_type": "stream",
     "text": [
      "['apple', 'banana', 'orange']\n"
     ]
    }
   ],
   "source": [
    "#Given a list my_list = [\"apple\", \"banana\", \"cherry\", \"orange\"], use a method to create a new list with only the items that contain the letter \"a\".\n",
    "my_list = [\"apple\", \"banana\", \"cherry\", \"orange\"]\n",
    "new_list = [item for item in my_list if 'a' in str(item)]\n",
    "print(new_list)\n"
   ]
  },
  {
   "cell_type": "code",
   "execution_count": 101,
   "id": "808a8910-2ddc-4db4-b516-cb167dfaeb3b",
   "metadata": {},
   "outputs": [
    {
     "name": "stdout",
     "output_type": "stream",
     "text": [
      "[5, 4, 3, 2, 1]\n"
     ]
    }
   ],
   "source": [
    " # Given a list my_list = [1, 2, 3, 4, 5], use a method to create a new list with the values sorted in descending order.\n",
    "my_list = [1, 2, 3, 4, 5]\n",
    "my_list.sort(reverse=True)\n",
    "print(my_list)"
   ]
  },
  {
   "cell_type": "code",
   "execution_count": null,
   "id": "7550a1ac-1eab-4f74-a5d1-1380fd23abae",
   "metadata": {},
   "outputs": [],
   "source": []
  }
 ],
 "metadata": {
  "kernelspec": {
   "display_name": "Python 3 (ipykernel)",
   "language": "python",
   "name": "python3"
  },
  "language_info": {
   "codemirror_mode": {
    "name": "ipython",
    "version": 3
   },
   "file_extension": ".py",
   "mimetype": "text/x-python",
   "name": "python",
   "nbconvert_exporter": "python",
   "pygments_lexer": "ipython3",
   "version": "3.12.1"
  }
 },
 "nbformat": 4,
 "nbformat_minor": 5
}
